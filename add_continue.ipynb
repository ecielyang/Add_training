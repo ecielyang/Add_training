{
 "cells": [
  {
   "cell_type": "code",
   "execution_count": 1,
   "id": "07172514",
   "metadata": {},
   "outputs": [],
   "source": [
    "from sklearn.linear_model import LogisticRegression\n",
    "import sklearn.metrics as mc\n",
    "import warnings\n",
    "import numpy as np\n",
    "from tqdm import tqdm\n",
    "import spacy"
   ]
  },
  {
   "cell_type": "code",
   "execution_count": 2,
   "id": "902b7e59",
   "metadata": {},
   "outputs": [],
   "source": [
    "def Add_subset(k, scores, test_idx, pred, X, y, thresh):\n",
    "    #print(\"test_idx\", test_idx)\n",
    "    #print(\"old\")\n",
    "    #print(pred[test_idx])\n",
    "    \n",
    "    if pred[test_idx] > thresh:\n",
    "        top_k_index = scores[test_idx].argsort()[-k:]\n",
    "    else:\n",
    "        top_k_index = scores[test_idx].argsort()[:k]\n",
    "        \n",
    "    y_k = y[\"train_add\"][top_k_index]\n",
    "    X_k = X[\"train_add\"][top_k_index]\n",
    "\n",
    "    prediction = -np.sum(scores[test_idx][top_k_index])\n",
    "    #print(\"prediction\", prediction)\n",
    "\n",
    "    return X_k, y_k, prediction, top_k_index\n",
    "\n",
    "\n",
    "def loss_gradient(X, y, model):\n",
    "    F_train = np.concatenate([X, np.ones((X.shape[0], 1))], axis=1)\n",
    "    error_train = model.predict_proba(X)[:, 1] - y\n",
    "    gradient_train = F_train * error_train[:, None]\n",
    "    return gradient_train"
   ]
  },
  {
   "cell_type": "code",
   "execution_count": 3,
   "id": "10db84aa",
   "metadata": {},
   "outputs": [],
   "source": [
    "def approximate_k(test_idx, pred, delta_pred, y, thresh):\n",
    "    old = pred[test_idx].item()\n",
    "    \n",
    "    if pred[test_idx] > thresh:\n",
    "        top_k_index = np.flip(delta_pred[test_idx].argsort())\n",
    "    else:\n",
    "        top_k_index = delta_pred[test_idx].argsort()\n",
    "    \n",
    "    for k in range(1, y[\"train_add\"].shape[0]):\n",
    "        change = np.sum(delta_pred[test_idx][top_k_index[:k]])\n",
    "        \n",
    "        if old > thresh and old + change < thresh:\n",
    "            return k\n",
    "        elif old < thresh and old + change > thresh:\n",
    "            return k\n",
    "        \n",
    "    return None"
   ]
  },
  {
   "cell_type": "code",
   "execution_count": 4,
   "id": "a9295549",
   "metadata": {},
   "outputs": [],
   "source": [
    "def new_train(k, dev_index, scores, l2, X, model, pred, y, thresh):\n",
    "    X_k, y_k, prediction, top_k_index = Add_subset(k, scores, dev_index, pred, X, y, thresh)\n",
    "    \n",
    "    if y_k.shape[0] == np.sum(y_k) or np.sum(y_k) == 0: # data contains only one class: 1\n",
    "        return None, None, None, None, None, None\n",
    "    \n",
    "    model.fit(X_k, y_k)\n",
    "\n",
    "    # predictthe probaility with test point\n",
    "    test_point = X[\"dev\"][dev_index]\n",
    "    test_point=np.reshape(test_point, (1,-1))\n",
    "    \n",
    "    new = model.predict_proba(test_point)[0][1]\n",
    "    change = -(model.predict_proba(test_point)[0][1] - new)\n",
    "    #change = model_k.predict_proba(test_point)[0][1]-model.predict_proba(test_point)[0][1]\n",
    "    flip = (model.predict(test_point) == model.predict(test_point))\n",
    "    \n",
    "    \"\"\"\n",
    "    print(\"change    \", change)\n",
    "    print(\"old       \", model.predict_proba(test_point)[0][1])\n",
    "    print()\n",
    "    \"\"\"\n",
    "    error = np.abs((change - prediction)/prediction)\n",
    "    return change, flip, prediction, new, error, top_k_index"
   ]
  },
  {
   "cell_type": "code",
   "execution_count": 5,
   "id": "9dac4ab0",
   "metadata": {},
   "outputs": [],
   "source": [
    "def IP(X, y, l2, dataname, thresh, model, pred, modi=None):\n",
    "    gradient_train_add = loss_gradient(X[\"train_add\"], y[\"train_add\"], model)\n",
    "\n",
    "    w = np.concatenate((model.coef_, model.intercept_[None, :]), axis=1)\n",
    "    F_train = np.concatenate([X[\"train\"], np.ones((X[\"train\"].shape[0], 1))],\n",
    "                             axis=1)  # Concatenating one to calculate the gradient with respect to intercept\n",
    "    F_dev = np.concatenate([X[\"dev\"], np.ones((X[\"dev\"].shape[0], 1))], axis=1)\n",
    "\n",
    "    # error_train = model.predict_proba(X[\"train\"])[:, 1] - y[\"train\"]\n",
    "    # error_dev = model.predict_proba(X[\"dev\"])[:, 1] - y[\"dev\"]\n",
    "\n",
    "    # gradient_train = F_train * error_train[:, None]\n",
    "    # gradient_dev = F_dev * error_dev[:, None]\n",
    "\n",
    "    probs = model.predict_proba(X[\"train\"])[:, 1]\n",
    "    hessian = F_train.T @ np.diag(probs * (1 - probs)) @ F_train / X[\"train\"].shape[0] + l2 * np.eye(F_train.shape[1]) / \\\n",
    "              X[\"train\"].shape[0]\n",
    "    inverse_hessian = np.linalg.inv(hessian)\n",
    "    eps = 1 / X[\"train\"].shape[0]\n",
    "    delta_k = -eps * inverse_hessian @ (gradient_train_add).T\n",
    "    grad_f = F_dev * (pred * (1 - pred))\n",
    "    delta_pred = grad_f @ delta_k\n",
    "    return delta_pred\n",
    "    \n",
    "\n",
    "\n",
    "    \n"
   ]
  },
  {
   "cell_type": "code",
   "execution_count": 6,
   "id": "6828413b",
   "metadata": {},
   "outputs": [
    {
     "name": "stderr",
     "output_type": "stream",
     "text": [
      "100%|██████████| 6920/6920 [00:41<00:00, 167.85it/s]\n",
      "100%|██████████| 872/872 [00:05<00:00, 161.04it/s]\n"
     ]
    }
   ],
   "source": [
    "import spacy\n",
    "sst_dataset = {}\n",
    "for split in [\"train\", \"dev\", \"test\"]:\n",
    "    URL = f\"https://raw.githubusercontent.com/successar/instance_attributions_NLP/master/Datasets/SST/data/{split}.jsonl\"\n",
    "    import urllib.request, json\n",
    "    with urllib.request.urlopen(URL) as url:\n",
    "        data = url.read().decode()\n",
    "        data = [json.loads(line) for line in data.strip().split(\"\\n\")]\n",
    "        sst_dataset[split] = data\n",
    "\n",
    "\n",
    "nlp = spacy.load('en_core_web_sm')\n",
    "\n",
    "X, y = {}, {}\n",
    "for split in [\"train\", \"dev\"]:\n",
    "    X[split] = np.array([nlp(example[\"document\"]).vector for example in tqdm(sst_dataset[split])])\n",
    "    y[split] = np.array([example[\"label\"] for example in sst_dataset[split]])"
   ]
  },
  {
   "cell_type": "code",
   "execution_count": 7,
   "id": "846fab53-2631-4a32-85e0-cf1142a0cae5",
   "metadata": {},
   "outputs": [],
   "source": [
    "from sklearn.model_selection import train_test_split\n",
    "X_train, X_train_add, y_train, y_train_add = train_test_split(\n",
    "    X[\"train\"], y[\"train\"], test_size=0.4, random_state=42)"
   ]
  },
  {
   "cell_type": "code",
   "execution_count": 8,
   "id": "4b763ad3-5609-47f1-93bf-431844cd0e9f",
   "metadata": {},
   "outputs": [
    {
     "data": {
      "text/plain": [
       "((4152, 96), (2768, 96), (872, 96))"
      ]
     },
     "execution_count": 8,
     "metadata": {},
     "output_type": "execute_result"
    }
   ],
   "source": [
    "X[\"train\"] = X_train\n",
    "X[\"train_add\"] = X_train_add\n",
    "y[\"train\"] = y_train\n",
    "y[\"train_add\"]= y_train_add\n",
    "X[\"train\"].shape, X[\"train_add\"].shape, X[\"dev\"].shape"
   ]
  },
  {
   "cell_type": "code",
   "execution_count": 12,
   "id": "f91a1a05",
   "metadata": {},
   "outputs": [
    {
     "data": {
      "text/plain": [
       "np.float64(0.6169724770642202)"
      ]
     },
     "execution_count": 12,
     "metadata": {},
     "output_type": "execute_result"
    }
   ],
   "source": [
    "thresh = 0.5\n",
    "l2 = 10\n",
    "model = LogisticRegression(penalty='l2', C=1/l2, solver='saga',warm_start=True)\n",
    "model.fit(X[\"train\"], y[\"train\"])\n",
    "pred = np.reshape(model.predict_proba(X[\"dev\"])[:, 1], (model.predict_proba(X[\"dev\"])[:, 1].shape[0], 1))\n",
    "np.sum(model.predict(X[\"dev\"]) == y[\"dev\"]) / 872"
   ]
  },
  {
   "cell_type": "code",
   "execution_count": 13,
   "id": "f8f5944c",
   "metadata": {},
   "outputs": [
    {
     "data": {
      "text/plain": [
       "(872, 2768)"
      ]
     },
     "execution_count": 13,
     "metadata": {},
     "output_type": "execute_result"
    }
   ],
   "source": [
    "delta_pred = IP(X, y, l2, \"SST\", thresh, model, pred)\n",
    "delta_pred.shape"
   ]
  },
  {
   "cell_type": "code",
   "execution_count": 11,
   "id": "73d504c7",
   "metadata": {},
   "outputs": [
    {
     "name": "stderr",
     "output_type": "stream",
     "text": [
      "  1%|          | 10/872 [00:00<00:19, 44.02it/s]"
     ]
    },
    {
     "name": "stdout",
     "output_type": "stream",
     "text": [
      "3 2761 [0.49117133] 0.52867776\n"
     ]
    },
    {
     "name": "stderr",
     "output_type": "stream",
     "text": [
      "  5%|▌         | 46/872 [00:00<00:17, 48.43it/s]"
     ]
    },
    {
     "name": "stdout",
     "output_type": "stream",
     "text": [
      "38 2766 [0.487544] 0.5140793\n"
     ]
    },
    {
     "name": "stderr",
     "output_type": "stream",
     "text": [
      " 10%|█         | 88/872 [00:01<00:16, 48.20it/s]"
     ]
    },
    {
     "name": "stdout",
     "output_type": "stream",
     "text": [
      "77 2741 [0.49911833] 0.5099238\n"
     ]
    },
    {
     "name": "stderr",
     "output_type": "stream",
     "text": [
      " 12%|█▏        | 106/872 [00:02<00:17, 43.81it/s]"
     ]
    },
    {
     "name": "stdout",
     "output_type": "stream",
     "text": [
      "98 2758 [0.48860356] 0.48062816\n",
      "99 2737 [0.49546137] 0.5650328\n"
     ]
    },
    {
     "name": "stderr",
     "output_type": "stream",
     "text": [
      " 14%|█▍        | 123/872 [00:02<00:17, 42.22it/s]"
     ]
    },
    {
     "name": "stdout",
     "output_type": "stream",
     "text": [
      "118 2765 [0.44858846] 0.53798157\n",
      "124 2760 [0.45044315] 0.5498611\n"
     ]
    },
    {
     "name": "stderr",
     "output_type": "stream",
     "text": [
      " 15%|█▌        | 134/872 [00:02<00:18, 39.84it/s]"
     ]
    },
    {
     "name": "stdout",
     "output_type": "stream",
     "text": [
      "127 2762 [0.46706432] 0.5722946\n"
     ]
    },
    {
     "name": "stderr",
     "output_type": "stream",
     "text": [
      " 17%|█▋        | 151/872 [00:03<00:16, 42.85it/s]"
     ]
    },
    {
     "name": "stdout",
     "output_type": "stream",
     "text": [
      "146 2743 [0.464954] 0.5221798\n",
      "151 2751 [0.44726554] 0.57362586\n"
     ]
    },
    {
     "name": "stderr",
     "output_type": "stream",
     "text": [
      " 19%|█▉        | 167/872 [00:03<00:16, 42.54it/s]"
     ]
    },
    {
     "name": "stdout",
     "output_type": "stream",
     "text": [
      "157 2759 [0.53923786] 0.4831784\n"
     ]
    },
    {
     "name": "stderr",
     "output_type": "stream",
     "text": [
      " 20%|█▉        | 172/872 [00:03<00:17, 40.48it/s]"
     ]
    },
    {
     "name": "stdout",
     "output_type": "stream",
     "text": [
      "168 2764 [0.4926947] 0.50782293\n",
      "175 2766 [0.5052541] 0.49155107\n"
     ]
    },
    {
     "name": "stderr",
     "output_type": "stream",
     "text": [
      " 21%|██▏       | 187/872 [00:04<00:18, 37.78it/s]"
     ]
    },
    {
     "name": "stdout",
     "output_type": "stream",
     "text": [
      "179 2760 [0.47052774] 0.5850069\n",
      "180 2764 [0.47377595] 0.53022116\n"
     ]
    },
    {
     "name": "stderr",
     "output_type": "stream",
     "text": [
      " 24%|██▍       | 208/872 [00:04<00:16, 41.29it/s]"
     ]
    },
    {
     "name": "stdout",
     "output_type": "stream",
     "text": [
      "197 2738 [0.46557197] 0.55452055\n"
     ]
    },
    {
     "name": "stderr",
     "output_type": "stream",
     "text": [
      " 25%|██▌       | 219/872 [00:05<00:15, 42.79it/s]"
     ]
    },
    {
     "name": "stdout",
     "output_type": "stream",
     "text": [
      "211 2767 [0.47995943] 0.5295598\n"
     ]
    },
    {
     "name": "stderr",
     "output_type": "stream",
     "text": [
      " 28%|██▊       | 243/872 [00:05<00:15, 41.63it/s]"
     ]
    },
    {
     "name": "stdout",
     "output_type": "stream",
     "text": [
      "236 2766 [0.5158159] 0.49755028\n",
      "242 2761 [0.4742515] 0.50389844\n"
     ]
    },
    {
     "name": "stderr",
     "output_type": "stream",
     "text": [
      " 29%|██▉       | 253/872 [00:05<00:16, 38.47it/s]"
     ]
    },
    {
     "name": "stdout",
     "output_type": "stream",
     "text": [
      "247 2766 [0.47817516] 0.47187963\n",
      "250 2765 [0.47367927] 0.50322795\n"
     ]
    },
    {
     "name": "stderr",
     "output_type": "stream",
     "text": [
      " 31%|███       | 270/872 [00:06<00:14, 42.70it/s]"
     ]
    },
    {
     "name": "stdout",
     "output_type": "stream",
     "text": [
      "263 2755 [0.4992935] 0.5301649\n"
     ]
    },
    {
     "name": "stderr",
     "output_type": "stream",
     "text": [
      " 37%|███▋      | 324/872 [00:07<00:11, 49.38it/s]"
     ]
    },
    {
     "name": "stdout",
     "output_type": "stream",
     "text": [
      "313 2765 [0.4891568] 0.5400588\n",
      "324 2764 [0.45106533] 0.56530994\n",
      "325 2767 [0.47476998] 0.5307694\n",
      "327 2764 [0.4673455] 0.53986156\n"
     ]
    },
    {
     "name": "stderr",
     "output_type": "stream",
     "text": [
      " 40%|███▉      | 346/872 [00:07<00:13, 37.80it/s]"
     ]
    },
    {
     "name": "stdout",
     "output_type": "stream",
     "text": [
      "338 2767 [0.50912225] 0.4710193\n",
      "345 2763 [0.42884728] 0.548361\n"
     ]
    },
    {
     "name": "stderr",
     "output_type": "stream",
     "text": [
      " 44%|████▎     | 380/872 [00:08<00:12, 39.66it/s]"
     ]
    },
    {
     "name": "stdout",
     "output_type": "stream",
     "text": [
      "373 2745 [0.5145764] 0.5211318\n",
      "375 2744 [0.49487206] 0.5197524\n"
     ]
    },
    {
     "name": "stderr",
     "output_type": "stream",
     "text": [
      " 46%|████▌     | 397/872 [00:09<00:10, 43.55it/s]"
     ]
    },
    {
     "name": "stdout",
     "output_type": "stream",
     "text": [
      "386 2764 [0.48739094] 0.54072636\n"
     ]
    },
    {
     "name": "stderr",
     "output_type": "stream",
     "text": [
      " 46%|████▌     | 402/872 [00:09<00:12, 36.90it/s]"
     ]
    },
    {
     "name": "stdout",
     "output_type": "stream",
     "text": [
      "397 2766 [0.41559258] 0.52997714\n",
      "398 2767 [0.43638128] 0.5496477\n",
      "403 2727 [0.4929922] 0.50293916\n"
     ]
    },
    {
     "name": "stderr",
     "output_type": "stream",
     "text": [
      " 49%|████▉     | 429/872 [00:09<00:09, 44.76it/s]"
     ]
    },
    {
     "name": "stdout",
     "output_type": "stream",
     "text": [
      "421 2766 [0.5243266] 0.5235722\n"
     ]
    },
    {
     "name": "stderr",
     "output_type": "stream",
     "text": [
      " 53%|█████▎    | 465/872 [00:10<00:08, 47.54it/s]"
     ]
    },
    {
     "name": "stdout",
     "output_type": "stream",
     "text": [
      "460 2763 [0.44563317] 0.5322331\n",
      "468 2766 [0.45417064] 0.5606452\n"
     ]
    },
    {
     "name": "stderr",
     "output_type": "stream",
     "text": [
      " 55%|█████▌    | 481/872 [00:10<00:08, 44.17it/s]"
     ]
    },
    {
     "name": "stdout",
     "output_type": "stream",
     "text": [
      "474 2761 [0.48307416] 0.54213375\n",
      "481 2766 [0.55515075] 0.4828041\n"
     ]
    },
    {
     "name": "stderr",
     "output_type": "stream",
     "text": [
      " 58%|█████▊    | 503/872 [00:11<00:08, 44.53it/s]"
     ]
    },
    {
     "name": "stdout",
     "output_type": "stream",
     "text": [
      "495 2753 [0.4870543] 0.51862943\n"
     ]
    },
    {
     "name": "stderr",
     "output_type": "stream",
     "text": [
      " 60%|██████    | 526/872 [00:11<00:07, 47.08it/s]"
     ]
    },
    {
     "name": "stdout",
     "output_type": "stream",
     "text": [
      "515 2763 [0.47283152] 0.51068985\n"
     ]
    },
    {
     "name": "stderr",
     "output_type": "stream",
     "text": [
      " 63%|██████▎   | 549/872 [00:12<00:07, 42.20it/s]"
     ]
    },
    {
     "name": "stdout",
     "output_type": "stream",
     "text": [
      "541 2764 [0.5307844] 0.4758007\n",
      "542 2763 [0.47860125] 0.524696\n"
     ]
    },
    {
     "name": "stderr",
     "output_type": "stream",
     "text": [
      " 64%|██████▍   | 560/872 [00:12<00:07, 43.98it/s]"
     ]
    },
    {
     "name": "stdout",
     "output_type": "stream",
     "text": [
      "549 2756 [0.49195582] 0.5113354\n"
     ]
    },
    {
     "name": "stderr",
     "output_type": "stream",
     "text": [
      " 66%|██████▌   | 577/872 [00:13<00:06, 43.45it/s]"
     ]
    },
    {
     "name": "stdout",
     "output_type": "stream",
     "text": [
      "572 2760 [0.5057629] 0.45330173\n"
     ]
    },
    {
     "name": "stderr",
     "output_type": "stream",
     "text": [
      " 67%|██████▋   | 588/872 [00:13<00:07, 39.52it/s]"
     ]
    },
    {
     "name": "stdout",
     "output_type": "stream",
     "text": [
      "581 2763 [0.49006218] 0.4908973\n",
      "587 2765 [0.49990812] 0.49638203\n"
     ]
    },
    {
     "name": "stderr",
     "output_type": "stream",
     "text": [
      " 71%|███████   | 617/872 [00:14<00:05, 46.41it/s]"
     ]
    },
    {
     "name": "stdout",
     "output_type": "stream",
     "text": [
      "606 2763 [0.5548071] 0.45809248\n"
     ]
    },
    {
     "name": "stderr",
     "output_type": "stream",
     "text": [
      " 74%|███████▎  | 641/872 [00:14<00:05, 44.83it/s]"
     ]
    },
    {
     "name": "stdout",
     "output_type": "stream",
     "text": [
      "632 2767 [0.500986] 0.5173278\n"
     ]
    },
    {
     "name": "stderr",
     "output_type": "stream",
     "text": [
      " 74%|███████▍  | 646/872 [00:14<00:05, 37.99it/s]"
     ]
    },
    {
     "name": "stdout",
     "output_type": "stream",
     "text": [
      "642 2764 [0.46891573] 0.5229713\n",
      "645 2766 [0.43535373] 0.56176126\n"
     ]
    },
    {
     "name": "stderr",
     "output_type": "stream",
     "text": [
      " 76%|███████▌  | 663/872 [00:15<00:04, 42.54it/s]"
     ]
    },
    {
     "name": "stdout",
     "output_type": "stream",
     "text": [
      "653 2766 [0.5006952] 0.49856505\n"
     ]
    },
    {
     "name": "stderr",
     "output_type": "stream",
     "text": [
      " 78%|███████▊  | 679/872 [00:15<00:04, 42.76it/s]"
     ]
    },
    {
     "name": "stdout",
     "output_type": "stream",
     "text": [
      "674 2767 [0.5128673] 0.5075748\n",
      "679 2762 [0.48717195] 0.502327\n"
     ]
    },
    {
     "name": "stderr",
     "output_type": "stream",
     "text": [
      " 80%|███████▉  | 695/872 [00:15<00:04, 35.47it/s]"
     ]
    },
    {
     "name": "stdout",
     "output_type": "stream",
     "text": [
      "691 2767 [0.5250974] 0.49665982\n",
      "694 2747 [0.4867715] 0.51999235\n"
     ]
    },
    {
     "name": "stderr",
     "output_type": "stream",
     "text": [
      " 81%|████████  | 703/872 [00:16<00:04, 34.05it/s]"
     ]
    },
    {
     "name": "stdout",
     "output_type": "stream",
     "text": [
      "696 2764 [0.5587856] 0.47436726\n",
      "702 2763 [0.47203055] 0.5664318\n"
     ]
    },
    {
     "name": "stderr",
     "output_type": "stream",
     "text": [
      " 85%|████████▍ | 738/872 [00:16<00:03, 40.70it/s]"
     ]
    },
    {
     "name": "stdout",
     "output_type": "stream",
     "text": [
      "732 2762 [0.5074498] 0.49113342\n",
      "736 2760 [0.50814927] 0.5098284\n"
     ]
    },
    {
     "name": "stderr",
     "output_type": "stream",
     "text": [
      " 86%|████████▌ | 747/872 [00:17<00:03, 37.10it/s]"
     ]
    },
    {
     "name": "stdout",
     "output_type": "stream",
     "text": [
      "740 2752 [0.49961656] 0.5136426\n",
      "746 2758 [0.47911397] 0.52262706\n"
     ]
    },
    {
     "name": "stderr",
     "output_type": "stream",
     "text": [
      " 86%|████████▌ | 751/872 [00:17<00:03, 32.05it/s]"
     ]
    },
    {
     "name": "stdout",
     "output_type": "stream",
     "text": [
      "747 2759 [0.48557538] 0.567147\n",
      "748 2753 [0.49725157] 0.47512245\n"
     ]
    },
    {
     "name": "stderr",
     "output_type": "stream",
     "text": [
      " 89%|████████▉ | 774/872 [00:17<00:02, 43.86it/s]"
     ]
    },
    {
     "name": "stdout",
     "output_type": "stream",
     "text": [
      "767 2756 [0.45213118] 0.54100114\n"
     ]
    },
    {
     "name": "stderr",
     "output_type": "stream",
     "text": [
      " 90%|████████▉ | 784/872 [00:18<00:02, 39.58it/s]"
     ]
    },
    {
     "name": "stdout",
     "output_type": "stream",
     "text": [
      "777 2762 [0.5052963] 0.52507323\n",
      "780 2763 [0.5094534] 0.5186182\n"
     ]
    },
    {
     "name": "stderr",
     "output_type": "stream",
     "text": [
      " 91%|█████████ | 795/872 [00:18<00:01, 41.66it/s]"
     ]
    },
    {
     "name": "stdout",
     "output_type": "stream",
     "text": [
      "786 2764 [0.4672935] 0.5443438\n"
     ]
    },
    {
     "name": "stderr",
     "output_type": "stream",
     "text": [
      " 94%|█████████▍| 818/872 [00:18<00:01, 43.11it/s]"
     ]
    },
    {
     "name": "stdout",
     "output_type": "stream",
     "text": [
      "810 2734 [0.49793652] 0.50130737\n",
      "811 2757 [0.57000095] 0.46966943\n"
     ]
    },
    {
     "name": "stderr",
     "output_type": "stream",
     "text": [
      " 95%|█████████▌| 829/872 [00:19<00:01, 41.61it/s]"
     ]
    },
    {
     "name": "stdout",
     "output_type": "stream",
     "text": [
      "824 2765 [0.47306797] 0.54034436\n",
      "832 2762 [0.47027388] 0.5284035\n"
     ]
    },
    {
     "name": "stderr",
     "output_type": "stream",
     "text": [
      " 97%|█████████▋| 845/872 [00:19<00:00, 41.60it/s]"
     ]
    },
    {
     "name": "stdout",
     "output_type": "stream",
     "text": [
      "837 2758 [0.48472297] 0.49759868\n"
     ]
    },
    {
     "name": "stderr",
     "output_type": "stream",
     "text": [
      " 98%|█████████▊| 855/872 [00:19<00:00, 38.63it/s]"
     ]
    },
    {
     "name": "stdout",
     "output_type": "stream",
     "text": [
      "847 2759 [0.50584453] 0.47571823\n",
      "854 2766 [0.46865052] 0.53216314\n"
     ]
    },
    {
     "name": "stderr",
     "output_type": "stream",
     "text": [
      " 99%|█████████▉| 863/872 [00:20<00:00, 35.49it/s]"
     ]
    },
    {
     "name": "stdout",
     "output_type": "stream",
     "text": [
      "857 2751 [0.5154432] 0.52937716\n",
      "860 2764 [0.453544] 0.53188616\n"
     ]
    },
    {
     "name": "stderr",
     "output_type": "stream",
     "text": [
      " 99%|█████████▉| 867/872 [00:20<00:00, 42.85it/s]\n"
     ]
    },
    {
     "ename": "KeyboardInterrupt",
     "evalue": "",
     "output_type": "error",
     "traceback": [
      "\u001b[0;31m---------------------------------------------------------------------------\u001b[0m",
      "\u001b[0;31mKeyboardInterrupt\u001b[0m                         Traceback (most recent call last)",
      "\u001b[1;32m/Users/eciel/Desktop/MPhil/y1s1/Courses/DATA804 Mayi/project/add_continue.ipynb Cell 11\u001b[0m line \u001b[0;36m6\n\u001b[1;32m      <a href='vscode-notebook-cell:/Users/eciel/Desktop/MPhil/y1s1/Courses/DATA804%20Mayi/project/add_continue.ipynb#X13sZmlsZQ%3D%3D?line=3'>4</a>\u001b[0m flip_list \u001b[39m=\u001b[39m []\n\u001b[1;32m      <a href='vscode-notebook-cell:/Users/eciel/Desktop/MPhil/y1s1/Courses/DATA804%20Mayi/project/add_continue.ipynb#X13sZmlsZQ%3D%3D?line=4'>5</a>\u001b[0m \u001b[39mfor\u001b[39;00m test_idx \u001b[39min\u001b[39;00m tqdm(\u001b[39mrange\u001b[39m(X[\u001b[39m\"\u001b[39m\u001b[39mdev\u001b[39m\u001b[39m\"\u001b[39m]\u001b[39m.\u001b[39mshape[\u001b[39m0\u001b[39m])):\n\u001b[0;32m----> <a href='vscode-notebook-cell:/Users/eciel/Desktop/MPhil/y1s1/Courses/DATA804%20Mayi/project/add_continue.ipynb#X13sZmlsZQ%3D%3D?line=5'>6</a>\u001b[0m     appro_k \u001b[39m=\u001b[39m approximate_k(test_idx, pred, delta_pred, y, thresh)\n\u001b[1;32m      <a href='vscode-notebook-cell:/Users/eciel/Desktop/MPhil/y1s1/Courses/DATA804%20Mayi/project/add_continue.ipynb#X13sZmlsZQ%3D%3D?line=6'>7</a>\u001b[0m     \u001b[39mif\u001b[39;00m appro_k \u001b[39m!=\u001b[39m \u001b[39mNone\u001b[39;00m:\n\u001b[1;32m      <a href='vscode-notebook-cell:/Users/eciel/Desktop/MPhil/y1s1/Courses/DATA804%20Mayi/project/add_continue.ipynb#X13sZmlsZQ%3D%3D?line=7'>8</a>\u001b[0m         change, _, prediction,new_prediction, error, top_k_index \u001b[39m=\u001b[39m new_train(appro_k, test_idx, delta_pred, l2, X, model, pred, y, thresh)\n",
      "\u001b[1;32m/Users/eciel/Desktop/MPhil/y1s1/Courses/DATA804 Mayi/project/add_continue.ipynb Cell 11\u001b[0m line \u001b[0;36m1\n\u001b[1;32m      <a href='vscode-notebook-cell:/Users/eciel/Desktop/MPhil/y1s1/Courses/DATA804%20Mayi/project/add_continue.ipynb#X13sZmlsZQ%3D%3D?line=6'>7</a>\u001b[0m     top_k_index \u001b[39m=\u001b[39m delta_pred[test_idx]\u001b[39m.\u001b[39margsort()\n\u001b[1;32m      <a href='vscode-notebook-cell:/Users/eciel/Desktop/MPhil/y1s1/Courses/DATA804%20Mayi/project/add_continue.ipynb#X13sZmlsZQ%3D%3D?line=8'>9</a>\u001b[0m \u001b[39mfor\u001b[39;00m k \u001b[39min\u001b[39;00m \u001b[39mrange\u001b[39m(\u001b[39m1\u001b[39m, y[\u001b[39m\"\u001b[39m\u001b[39mtrain_add\u001b[39m\u001b[39m\"\u001b[39m]\u001b[39m.\u001b[39mshape[\u001b[39m0\u001b[39m]):\n\u001b[0;32m---> <a href='vscode-notebook-cell:/Users/eciel/Desktop/MPhil/y1s1/Courses/DATA804%20Mayi/project/add_continue.ipynb#X13sZmlsZQ%3D%3D?line=9'>10</a>\u001b[0m     change \u001b[39m=\u001b[39m np\u001b[39m.\u001b[39;49msum(delta_pred[test_idx][top_k_index[:k]])\n\u001b[1;32m     <a href='vscode-notebook-cell:/Users/eciel/Desktop/MPhil/y1s1/Courses/DATA804%20Mayi/project/add_continue.ipynb#X13sZmlsZQ%3D%3D?line=11'>12</a>\u001b[0m     \u001b[39mif\u001b[39;00m old \u001b[39m>\u001b[39m thresh \u001b[39mand\u001b[39;00m old \u001b[39m+\u001b[39m change \u001b[39m<\u001b[39m thresh:\n\u001b[1;32m     <a href='vscode-notebook-cell:/Users/eciel/Desktop/MPhil/y1s1/Courses/DATA804%20Mayi/project/add_continue.ipynb#X13sZmlsZQ%3D%3D?line=12'>13</a>\u001b[0m         \u001b[39mreturn\u001b[39;00m k\n",
      "File \u001b[0;32m/opt/anaconda3/envs/if/lib/python3.10/site-packages/numpy/_core/fromnumeric.py:2389\u001b[0m, in \u001b[0;36msum\u001b[0;34m(a, axis, dtype, out, keepdims, initial, where)\u001b[0m\n\u001b[1;32m   2386\u001b[0m         \u001b[39mreturn\u001b[39;00m out\n\u001b[1;32m   2387\u001b[0m     \u001b[39mreturn\u001b[39;00m res\n\u001b[0;32m-> 2389\u001b[0m \u001b[39mreturn\u001b[39;00m _wrapreduction(\n\u001b[1;32m   2390\u001b[0m     a, np\u001b[39m.\u001b[39;49madd, \u001b[39m'\u001b[39;49m\u001b[39msum\u001b[39;49m\u001b[39m'\u001b[39;49m, axis, dtype, out,\n\u001b[1;32m   2391\u001b[0m     keepdims\u001b[39m=\u001b[39;49mkeepdims, initial\u001b[39m=\u001b[39;49minitial, where\u001b[39m=\u001b[39;49mwhere\n\u001b[1;32m   2392\u001b[0m )\n",
      "File \u001b[0;32m/opt/anaconda3/envs/if/lib/python3.10/site-packages/numpy/_core/fromnumeric.py:70\u001b[0m, in \u001b[0;36m_wrapreduction\u001b[0;34m(obj, ufunc, method, axis, dtype, out, **kwargs)\u001b[0m\n\u001b[1;32m     69\u001b[0m \u001b[39mdef\u001b[39;00m \u001b[39m_wrapreduction\u001b[39m(obj, ufunc, method, axis, dtype, out, \u001b[39m*\u001b[39m\u001b[39m*\u001b[39mkwargs):\n\u001b[0;32m---> 70\u001b[0m     passkwargs \u001b[39m=\u001b[39m {k: v \u001b[39mfor\u001b[39;00m k, v \u001b[39min\u001b[39;00m kwargs\u001b[39m.\u001b[39;49mitems()\n\u001b[1;32m     71\u001b[0m                   \u001b[39mif\u001b[39;00m v \u001b[39mis\u001b[39;00m \u001b[39mnot\u001b[39;00m np\u001b[39m.\u001b[39m_NoValue}\n\u001b[1;32m     73\u001b[0m     \u001b[39mif\u001b[39;00m \u001b[39mtype\u001b[39m(obj) \u001b[39mis\u001b[39;00m \u001b[39mnot\u001b[39;00m mu\u001b[39m.\u001b[39mndarray:\n\u001b[1;32m     74\u001b[0m         \u001b[39mtry\u001b[39;00m:\n",
      "\u001b[0;31mKeyboardInterrupt\u001b[0m: "
     ]
    }
   ],
   "source": [
    "# # Loop over all dev points for evaluation:\n",
    "# appro_ks = []\n",
    "# new_predictions = []\n",
    "# flip_list = []\n",
    "# for test_idx in tqdm(range(X[\"dev\"].shape[0])):\n",
    "#     appro_k = approximate_k(test_idx, pred, delta_pred, y, thresh)\n",
    "#     if appro_k != None:\n",
    "#         change, _, prediction,new_prediction, error, top_k_index = new_train(appro_k, test_idx, delta_pred, l2, X, model, pred, y, thresh)\n",
    "#         print(test_idx, appro_k, pred[test_idx], new_prediction)\n",
    "#         appro_ks.append(appro_k)\n",
    "#         new_predictions.append(new_prediction)\n",
    "#         flip_list.append(top_k_index)\n",
    "#     else:\n",
    "#         appro_ks.append(None)\n",
    "#         new_predictions.append(None)\n",
    "#         flip_list.append(None)\n",
    "\n",
    "# appro_ks= np.array(appro_ks)\n",
    "# new_predictions=np.array(new_predictions)\n",
    "# # flip_list = np.array(flip_list)\n",
    "# # np.save(\"./results/\" + \"appro_ks_IP\" + \"_alg1_\" + dataname  + str(l2) + \".npy\", appro_ks)\n",
    "# # np.save(\"./results/\" + \"new_predictions\" + \"_alg1_\" + dataname + str(l2) + \".npy\", new_predictions)\n",
    "# # np.save(\"./results/\" + \"old_predictions\" + \"_alg1_\" + dataname + str(l2) + \".npy\", pred)\n",
    "# # np.save(\"./results/\" + \"flip_list\" + \"_alg1_\" + dataname + str(l2) + \".npy\", flip_list)"
   ]
  },
  {
   "cell_type": "code",
   "execution_count": 14,
   "id": "566a927a",
   "metadata": {},
   "outputs": [],
   "source": [
    "# new_predictions = new_predictions.reshape((872, 1))\n",
    "# eval = []\n",
    "# num = 0\n",
    "# for i in range(872):\n",
    "#     if new_predictions[i] != None:\n",
    "#         eval.append((new_predictions[i] > 0.5) != (pred[i] > 0.5))\n",
    "#         num += 1\n",
    "# np.sum(eval) / num"
   ]
  },
  {
   "cell_type": "markdown",
   "id": "44092954",
   "metadata": {},
   "source": [
    "# Accuracy Algorithm1"
   ]
  },
  {
   "cell_type": "code",
   "execution_count": 15,
   "id": "f8dc22fc",
   "metadata": {},
   "outputs": [
    {
     "data": {
      "text/plain": [
       "((872, 2768), (872,), (872, 1), (872,))"
      ]
     },
     "execution_count": 15,
     "metadata": {},
     "output_type": "execute_result"
    }
   ],
   "source": [
    "delta_pred.shape, delta_pred[:, 0].shape, pred.shape, y[\"dev\"].shape"
   ]
  },
  {
   "cell_type": "code",
   "execution_count": 16,
   "id": "210bfb0c",
   "metadata": {},
   "outputs": [
    {
     "data": {
      "text/plain": [
       "(np.float64(0.6169724770642202), 0.6169724770642202)"
      ]
     },
     "execution_count": 16,
     "metadata": {},
     "output_type": "execute_result"
    }
   ],
   "source": [
    "original_acc = np.sum((pred[:, 0] > 0.5) == y[\"dev\"])/ y[\"dev\"].shape[0]\n",
    "original_acc, model.score(X[\"dev\"], y[\"dev\"])"
   ]
  },
  {
   "cell_type": "code",
   "execution_count": 17,
   "id": "eead0ac1",
   "metadata": {},
   "outputs": [],
   "source": [
    "def accuracy_higher(delta_pred, pred, y_truth):\n",
    "    accmul = 0\n",
    "    for i in range(delta_pred.shape[0]):\n",
    "        # if goes same way\n",
    "        # print(y_truth[i], pred[i][0], delta_pred[i], accmul)\n",
    "        if np.sign(y_truth[i] - pred[i]) == np.sign(delta_pred[i]):\n",
    "            accmul = accmul + np.abs(delta_pred[i])\n",
    "        else:\n",
    "            accmul = accmul - np.abs(delta_pred[i])\n",
    "    if accmul > 0:\n",
    "        return True\n",
    "    else:\n",
    "        return False\n",
    "\n"
   ]
  },
  {
   "cell_type": "code",
   "execution_count": 18,
   "id": "82cba637",
   "metadata": {},
   "outputs": [
    {
     "data": {
      "text/plain": [
       "1674"
      ]
     },
     "execution_count": 18,
     "metadata": {},
     "output_type": "execute_result"
    }
   ],
   "source": [
    "add_idx = []\n",
    "for j in range(delta_pred.shape[1]):\n",
    "    improve = accuracy_higher(delta_pred[:, j], pred, y[\"dev\"])\n",
    "    if improve == True:\n",
    "        add_idx.append(j)\n",
    "len(add_idx)"
   ]
  },
  {
   "cell_type": "code",
   "execution_count": null,
   "id": "d08056dd",
   "metadata": {},
   "outputs": [
    {
     "data": {
      "text/plain": [
       "0.6444954128440367"
      ]
     },
     "execution_count": 25,
     "metadata": {},
     "output_type": "execute_result"
    }
   ],
   "source": [
    "# continue to train with selected data\n",
    "y_k = y[\"train_add\"][add_idx]\n",
    "X_k = X[\"train_add\"][add_idx]\n",
    "model.fit(X_k, y_k)\n",
    "model.score(X[\"dev\"], y[\"dev\"])"
   ]
  },
  {
   "cell_type": "code",
   "execution_count": 19,
   "id": "6e84f139",
   "metadata": {},
   "outputs": [
    {
     "data": {
      "text/plain": [
       "0.6295871559633027"
      ]
     },
     "execution_count": 19,
     "metadata": {},
     "output_type": "execute_result"
    }
   ],
   "source": [
    "# continue to train with all data\n",
    "y_k = y[\"train_add\"]\n",
    "X_k = X[\"train_add\"]\n",
    "model.fit(X_k, y_k)\n",
    "model.score(X[\"dev\"], y[\"dev\"])"
   ]
  },
  {
   "cell_type": "markdown",
   "id": "be5c40be",
   "metadata": {},
   "source": []
  }
 ],
 "metadata": {
  "kernelspec": {
   "display_name": "Python 3 (ipykernel)",
   "language": "python",
   "name": "python3"
  },
  "language_info": {
   "codemirror_mode": {
    "name": "ipython",
    "version": 3
   },
   "file_extension": ".py",
   "mimetype": "text/x-python",
   "name": "python",
   "nbconvert_exporter": "python",
   "pygments_lexer": "ipython3",
   "version": "3.10.15"
  }
 },
 "nbformat": 4,
 "nbformat_minor": 5
}
